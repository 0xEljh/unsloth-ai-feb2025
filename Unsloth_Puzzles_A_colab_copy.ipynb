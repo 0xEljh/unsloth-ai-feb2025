{
  "cells": [
    {
      "cell_type": "code",
      "execution_count": 2,
      "metadata": {
        "colab": {
          "base_uri": "https://localhost:8080/"
        },
        "id": "-2-6lWPBrZcV",
        "outputId": "88a3f59e-d065-47c5-c6c3-9489a969ca5c"
      },
      "outputs": [
        {
          "output_type": "stream",
          "name": "stdout",
          "text": [
            "Requirement already satisfied: bitsandbytes in /usr/local/lib/python3.11/dist-packages (0.45.3)\n",
            "Requirement already satisfied: accelerate in /usr/local/lib/python3.11/dist-packages (1.3.0)\n",
            "Requirement already satisfied: xformers==0.0.29 in /usr/local/lib/python3.11/dist-packages (0.0.29)\n",
            "Requirement already satisfied: peft in /usr/local/lib/python3.11/dist-packages (0.14.0)\n",
            "Requirement already satisfied: trl in /usr/local/lib/python3.11/dist-packages (0.15.2)\n",
            "Requirement already satisfied: triton in /usr/local/lib/python3.11/dist-packages (3.2.0)\n",
            "Requirement already satisfied: cut_cross_entropy in /usr/local/lib/python3.11/dist-packages (25.1.1)\n",
            "Requirement already satisfied: unsloth_zoo in /usr/local/lib/python3.11/dist-packages (2025.3.15)\n",
            "Requirement already satisfied: sentencepiece in /usr/local/lib/python3.11/dist-packages (0.2.0)\n",
            "Requirement already satisfied: protobuf in /usr/local/lib/python3.11/dist-packages (4.25.6)\n",
            "Requirement already satisfied: datasets in /usr/local/lib/python3.11/dist-packages (3.4.1)\n",
            "Requirement already satisfied: huggingface_hub in /usr/local/lib/python3.11/dist-packages (0.28.1)\n",
            "Requirement already satisfied: hf_transfer in /usr/local/lib/python3.11/dist-packages (0.1.9)\n",
            "Requirement already satisfied: filelock in /usr/local/lib/python3.11/dist-packages (from datasets) (3.17.0)\n",
            "Requirement already satisfied: numpy>=1.17 in /usr/local/lib/python3.11/dist-packages (from datasets) (2.0.2)\n",
            "Requirement already satisfied: pyarrow>=15.0.0 in /usr/local/lib/python3.11/dist-packages (from datasets) (18.1.0)\n",
            "Requirement already satisfied: dill<0.3.9,>=0.3.0 in /usr/local/lib/python3.11/dist-packages (from datasets) (0.3.8)\n",
            "Requirement already satisfied: pandas in /usr/local/lib/python3.11/dist-packages (from datasets) (2.2.2)\n",
            "Requirement already satisfied: requests>=2.32.2 in /usr/local/lib/python3.11/dist-packages (from datasets) (2.32.3)\n",
            "Requirement already satisfied: tqdm>=4.66.3 in /usr/local/lib/python3.11/dist-packages (from datasets) (4.67.1)\n",
            "Requirement already satisfied: xxhash in /usr/local/lib/python3.11/dist-packages (from datasets) (3.5.0)\n",
            "Requirement already satisfied: multiprocess<0.70.17 in /usr/local/lib/python3.11/dist-packages (from datasets) (0.70.16)\n",
            "Requirement already satisfied: fsspec<=2024.12.0,>=2023.1.0 in /usr/local/lib/python3.11/dist-packages (from fsspec[http]<=2024.12.0,>=2023.1.0->datasets) (2024.10.0)\n",
            "Requirement already satisfied: aiohttp in /usr/local/lib/python3.11/dist-packages (from datasets) (3.11.13)\n",
            "Requirement already satisfied: packaging in /usr/local/lib/python3.11/dist-packages (from datasets) (24.2)\n",
            "Requirement already satisfied: pyyaml>=5.1 in /usr/local/lib/python3.11/dist-packages (from datasets) (6.0.2)\n",
            "Requirement already satisfied: typing-extensions>=3.7.4.3 in /usr/local/lib/python3.11/dist-packages (from huggingface_hub) (4.12.2)\n",
            "Requirement already satisfied: aiohappyeyeballs>=2.3.0 in /usr/local/lib/python3.11/dist-packages (from aiohttp->datasets) (2.6.1)\n",
            "Requirement already satisfied: aiosignal>=1.1.2 in /usr/local/lib/python3.11/dist-packages (from aiohttp->datasets) (1.3.2)\n",
            "Requirement already satisfied: attrs>=17.3.0 in /usr/local/lib/python3.11/dist-packages (from aiohttp->datasets) (25.3.0)\n",
            "Requirement already satisfied: frozenlist>=1.1.1 in /usr/local/lib/python3.11/dist-packages (from aiohttp->datasets) (1.5.0)\n",
            "Requirement already satisfied: multidict<7.0,>=4.5 in /usr/local/lib/python3.11/dist-packages (from aiohttp->datasets) (6.1.0)\n",
            "Requirement already satisfied: propcache>=0.2.0 in /usr/local/lib/python3.11/dist-packages (from aiohttp->datasets) (0.3.0)\n",
            "Requirement already satisfied: yarl<2.0,>=1.17.0 in /usr/local/lib/python3.11/dist-packages (from aiohttp->datasets) (1.18.3)\n",
            "Requirement already satisfied: charset-normalizer<4,>=2 in /usr/local/lib/python3.11/dist-packages (from requests>=2.32.2->datasets) (3.4.1)\n",
            "Requirement already satisfied: idna<4,>=2.5 in /usr/local/lib/python3.11/dist-packages (from requests>=2.32.2->datasets) (3.10)\n",
            "Requirement already satisfied: urllib3<3,>=1.21.1 in /usr/local/lib/python3.11/dist-packages (from requests>=2.32.2->datasets) (2.3.0)\n",
            "Requirement already satisfied: certifi>=2017.4.17 in /usr/local/lib/python3.11/dist-packages (from requests>=2.32.2->datasets) (2025.1.31)\n",
            "Requirement already satisfied: python-dateutil>=2.8.2 in /usr/local/lib/python3.11/dist-packages (from pandas->datasets) (2.8.2)\n",
            "Requirement already satisfied: pytz>=2020.1 in /usr/local/lib/python3.11/dist-packages (from pandas->datasets) (2025.1)\n",
            "Requirement already satisfied: tzdata>=2022.7 in /usr/local/lib/python3.11/dist-packages (from pandas->datasets) (2025.1)\n",
            "Requirement already satisfied: six>=1.5 in /usr/local/lib/python3.11/dist-packages (from python-dateutil>=2.8.2->pandas->datasets) (1.17.0)\n",
            "Requirement already satisfied: unsloth in /usr/local/lib/python3.11/dist-packages (2025.3.17)\n"
          ]
        }
      ],
      "source": [
        "# Code to install Unsloth, Triton, Torch etc\n",
        "# %%capture\n",
        "!pip install --no-deps bitsandbytes accelerate xformers==0.0.29 peft trl triton\n",
        "!pip install --no-deps cut_cross_entropy unsloth_zoo\n",
        "!pip install sentencepiece protobuf datasets huggingface_hub hf_transfer\n",
        "!pip install --no-deps unsloth"
      ]
    },
    {
      "cell_type": "code",
      "execution_count": 3,
      "metadata": {
        "id": "vM8ws2AwrZcW"
      },
      "outputs": [],
      "source": [
        "# Helpful functions used through the entire notebook\n",
        "import torch\n",
        "import torch.nn as nn\n",
        "from transformers import set_seed\n",
        "import time\n",
        "import inspect\n",
        "import os\n",
        "\n",
        "major_version, minor_version = torch.cuda.get_device_capability()\n",
        "HAS_BFLOAT16 = major_version >= 8\n",
        "from inspect import currentframe as _C, getframeinfo\n",
        "\n",
        "_F = lambda c: getframeinfo(c).lineno  # Gets line number\n",
        "WARN = lambda x: print(f\"\\033[31m{x}\\033[0m\")  # Red colored warnings\n",
        "\n",
        "\n",
        "# https://stackoverflow.com/questions/18425225/getting-the-name-of-a-variable-as-a-string\n",
        "def NAME(var):\n",
        "    callers_local_vars = inspect.currentframe().f_back.f_locals.items()\n",
        "    names = [var_name for var_name, var_val in callers_local_vars if var_val is var]\n",
        "    return names[0] if len(names) != 0 else \"\"\n",
        "\n",
        "\n",
        "def assert_same(x, y, line, dtype):\n",
        "    assert x.dtype == dtype\n",
        "    try:\n",
        "        torch.testing.assert_close(x, y, check_stride=True)\n",
        "    except Exception as error:\n",
        "        raise RuntimeError(\n",
        "            f\"Failed allclose at line [{line}]: {NAME(x)}, {NAME(y)}\\n{str(error)}\"\n",
        "        )\n",
        "\n",
        "\n",
        "os.environ[\"HF_HUB_ENABLE_HF_TRANSFER\"] = \"1\""
      ]
    },
    {
      "cell_type": "markdown",
      "metadata": {
        "id": "fGR-rsGGrZcX"
      },
      "source": [
        "---\n",
        "---\n",
        "---\n",
        "<a name=\"NF4\"></a>\n",
        "## A) Convert `nf4` to Triton. [Difficulty: Hard] [Max points: 14]\n",
        "\n",
        "1. Goal: Convert a `nf4` quantized tensor into `fp16` or `bf16` into a *single* Triton kernel The double dequant of the `absmax` and weight forming must be done in 1 Triton kernel. Must work on Tesla T4.\n",
        "2. Must be faster than Unsloth's `fast_dequantize` by 1.15x or more, and not use large intermediate memory buffers.\n",
        "3. Must not use `torch.compile`, but can use `trace.enabled` to help on writing Triton kernels.\n",
        "4. Good material: [Unsloth `fast_dequantize` function](https://github.com/unslothai/unsloth/blob/main/unsloth/kernels/utils.py#L128), also [bitsandbytes `dequantize_blockwise`](https://github.com/bitsandbytes-foundation/bitsandbytes/blob/86b6c37a8ad448230cedb60753f63150b603a112/bitsandbytes/functional.py#L958)\n",
        "5. Use `test_dequantize_function` to test your implementation.\n",
        "6. No CUDA allowed. Custom CUDA inside of the Triton is allowed.\n",
        "7. Watch Tim's videos on Youtube: [8-bit Optimizers](https://www.youtube.com/watch?v=2ETNONas068)"
      ]
    },
    {
      "cell_type": "markdown",
      "metadata": {
        "id": "quG_TR2yrZcY"
      },
      "source": [
        "### Marking Criteria for A) Max points = 14\n",
        "```python\n",
        "if attemped_A:\n",
        "    A_score = 0\n",
        "    if single_triton_kernel: A_score += 3\n",
        "    speedup = old_time / new_time\n",
        "    if speedup <= 1.00: A_score -= 3\n",
        "    if speedup >= 1.05: A_score += 1\n",
        "    if speedup >= 1.10: A_score += 2\n",
        "    if speedup >= 1.15: A_score += 2\n",
        "    if kernel_works_in_torch_compile: A_score += 1\n",
        "    else: A_score -= 1\n",
        "    if custom_asm_works: A_score += 3\n",
        "    if uses_cache_eviction: A_score += 1\n",
        "    if tested_in_f16_and_bf16: A_score += 1\n",
        "    else: A_score -= 1\n",
        "    final_score += A_score\n",
        "else:\n",
        "    final_score += 0\n",
        "```"
      ]
    },
    {
      "cell_type": "code",
      "execution_count": 4,
      "metadata": {
        "colab": {
          "base_uri": "https://localhost:8080/"
        },
        "id": "-TEOfVEkrZcY",
        "outputId": "d2485292-fc2c-4631-fff8-eb6259986b34"
      },
      "outputs": [
        {
          "output_type": "stream",
          "name": "stderr",
          "text": [
            "<ipython-input-4-ad70f3a9fe89>:3: UserWarning: WARNING: Unsloth should be imported before transformers to ensure all optimizations are applied. Your code may run slower or encounter memory issues without these optimizations.\n",
            "\n",
            "Please restructure your imports with 'import unsloth' at the top of your file.\n",
            "  from unsloth.kernels.utils import fast_dequantize\n"
          ]
        },
        {
          "output_type": "stream",
          "name": "stdout",
          "text": [
            "🦥 Unsloth: Will patch your computer to enable 2x faster free finetuning.\n"
          ]
        },
        {
          "output_type": "stream",
          "name": "stderr",
          "text": [
            "WARNING:xformers:WARNING[XFORMERS]: xFormers can't load C++/CUDA extensions. xFormers was built for:\n",
            "    PyTorch 2.5.1+cu121 with CUDA 1201 (you have 2.6.0+cu124)\n",
            "    Python  3.11.11 (you have 3.11.11)\n",
            "  Please reinstall xformers (see https://github.com/facebookresearch/xformers#installing-xformers)\n",
            "  Memory-efficient attention, SwiGLU, sparse and more won't be available.\n",
            "  Set XFORMERS_MORE_DETAILS=1 for more details\n"
          ]
        },
        {
          "output_type": "stream",
          "name": "stdout",
          "text": [
            "🦥 Unsloth Zoo will now patch everything to make training faster!\n"
          ]
        }
      ],
      "source": [
        "from bitsandbytes.nn import Linear4bit\n",
        "from transformers.activations import ACT2FN\n",
        "from unsloth.kernels.utils import fast_dequantize\n",
        "import triton\n",
        "\n",
        "\n",
        "def unsloth_dequantize(weight):\n",
        "    return fast_dequantize(weight.weight, weight.weight.quant_state)\n",
        "\n",
        "\n",
        "def bnb_Linear4bit(hd, m, dtype=torch.float16):\n",
        "    return Linear4bit(\n",
        "        hd,\n",
        "        m,\n",
        "        bias=None,\n",
        "        compute_dtype=dtype,\n",
        "        compress_statistics=True,\n",
        "        quant_type=\"nf4\",\n",
        "    )\n",
        "\n",
        "\n",
        "class MLP(nn.Module):\n",
        "    def __init__(self, hd=4096, m=14336, dtype=torch.float16):\n",
        "        super().__init__()\n",
        "        self.gate_proj = bnb_Linear4bit(hd, m, dtype=dtype)\n",
        "        self.up_proj = bnb_Linear4bit(hd, m, dtype=dtype)\n",
        "        self.down_proj = bnb_Linear4bit(m, hd, dtype=dtype)\n",
        "        self.act_fn = ACT2FN[\"silu\"]\n",
        "\n",
        "    def forward(self, x):\n",
        "        return self.down_proj(self.act_fn(self.gate_proj(x)) * self.up_proj(x))\n",
        "\n",
        "\n",
        "def mlp_forward(X, mlp, fx):\n",
        "    up = X @ fx(mlp.up_proj).t()\n",
        "    gate = X @ fx(mlp.gate_proj).t()\n",
        "    h = mlp.act_fn(gate) * up\n",
        "    down = h @ fx(mlp.down_proj).t()\n",
        "    return down\n",
        "\n",
        "\n",
        "def mlp_dequantize(X, mlp, fx):\n",
        "    a = fx(mlp.up_proj).t()\n",
        "    torch.cuda.synchronize()\n",
        "    b = fx(mlp.gate_proj).t()\n",
        "    torch.cuda.synchronize()\n",
        "    c = fx(mlp.down_proj).t()\n",
        "    torch.cuda.synchronize()\n",
        "    return a, b, c\n",
        "\n",
        "\n",
        "def test_dequantize(dequantize_fx):\n",
        "    elapsed = 0\n",
        "    options = [\n",
        "        (5, 777, 1024, 4096, 3409, torch.bfloat16),\n",
        "        (3, 2048, 4096, 14336, 3408, torch.bfloat16),\n",
        "        (2, 3333, 2048, 8192, 3407, torch.float16),\n",
        "    ]\n",
        "    for bsz, qlen, hd, m, seed, dt in options:\n",
        "        set_seed(seed)\n",
        "        torch.set_default_dtype(dt)\n",
        "        mlp = MLP(hd=hd, m=m, dtype=dt).to(\"cuda\")\n",
        "        X = torch.randn((bsz, qlen, hd), device=\"cuda\")\n",
        "        torch.cuda.synchronize()\n",
        "\n",
        "        # Warmup\n",
        "        for _ in range(2):\n",
        "            assert_same(mlp_forward(X, mlp, dequantize_fx), mlp(X), _F(_C()), dt)\n",
        "            a, b, c = mlp_dequantize(X, mlp, dequantize_fx)\n",
        "            A, B, C = mlp_dequantize(X, mlp, unsloth_dequantize)\n",
        "            assert_same(a, A, _F(_C()), dt)\n",
        "            assert_same(b, B, _F(_C()), dt)\n",
        "            assert_same(c, C, _F(_C()), dt)\n",
        "\n",
        "        # Benchmarking\n",
        "        torch.cuda.synchronize()\n",
        "        start = time.time()\n",
        "        for _ in range(1000):\n",
        "            mlp_dequantize(X, mlp, dequantize_fx)\n",
        "        elapsed += time.time() - start\n",
        "    return elapsed\n",
        "\n",
        "\n"
      ]
    },
    {
      "cell_type": "markdown",
      "metadata": {
        "id": "MNir4w6prZcZ"
      },
      "source": [
        "Testing the unsloth reference implementation"
      ]
    },
    {
      "cell_type": "code",
      "execution_count": 5,
      "metadata": {
        "colab": {
          "base_uri": "https://localhost:8080/"
        },
        "id": "ZKSz9HFhrZcZ",
        "outputId": "b455f2fb-e27d-4365-bc24-94ae84da63f0"
      },
      "outputs": [
        {
          "output_type": "execute_result",
          "data": {
            "text/plain": [
              "7.024777412414551"
            ]
          },
          "metadata": {},
          "execution_count": 5
        }
      ],
      "source": [
        "from unsloth.kernels.utils import fast_dequantize\n",
        "\n",
        "\n",
        "def unsloth_dequantize(weight):\n",
        "    return fast_dequantize(weight.weight, weight.weight.quant_state)\n",
        "\n",
        "\n",
        "test_dequantize(unsloth_dequantize)"
      ]
    },
    {
      "cell_type": "markdown",
      "metadata": {
        "id": "g5iGylVzrZcZ"
      },
      "source": [
        "My triton implementation"
      ]
    },
    {
      "cell_type": "code",
      "execution_count": 6,
      "metadata": {
        "colab": {
          "base_uri": "https://localhost:8080/"
        },
        "id": "wMNsOyEtrZcZ",
        "outputId": "61b3d2e5-ee98-4d8a-f3aa-e5fa66ff8d5c"
      },
      "outputs": [
        {
          "output_type": "execute_result",
          "data": {
            "text/plain": [
              "10.847962617874146"
            ]
          },
          "metadata": {},
          "execution_count": 6
        }
      ],
      "source": [
        "import triton\n",
        "import triton.language as tl\n",
        "\n",
        "@triton.jit\n",
        "def dequantize_nf4_code(code_index):\n",
        "    \"\"\"Helper function to dequantize a 4-bit NF4 code to its float value.\"\"\"\n",
        "    # bit3 = (code_index & 0x8) != 0  # Check if bit 3 is set (8)\n",
        "    # bit2 = (code_index & 0x4) != 0  # Check if bit 2 is set (4)\n",
        "    # bit1 = (code_index & 0x2) != 0  # Check if bit 1 is set (2)\n",
        "    # bit0 = (code_index & 0x1) != 0  # Check if bit 0 is set (1)\n",
        "    (bit3, bit2, bit1, bit0) = tl.inline_asm_elementwise(\n",
        "        asm=\"\"\"\n",
        "        // Extract bit 3\n",
        "        bfe.u32 $0, $4, 3, 1;\n",
        "        // Extract bit 2\n",
        "        bfe.u32 $1, $4, 2, 1;\n",
        "        // Extract bit 1\n",
        "        bfe.u32 $2, $4, 1, 1;\n",
        "        // Extract bit 0\n",
        "        bfe.u32 $3, $4, 0, 1;\n",
        "        \"\"\",\n",
        "        constraints=\"=r,=r,=r,=r,r\",  # 4 outputs, 1 input\n",
        "        args=[code_index],\n",
        "        pack=1,\n",
        "        dtype=(tl.int8, tl.int8, tl.int8, tl.int8),\n",
        "        is_pure=True,\n",
        "    )\n",
        "    bit3, bit2, bit1, bit0 = bit3 != 0, bit2 != 0, bit1 != 0, bit0 != 0\n",
        "\n",
        "    # we avoid reading the code values directly, as they are not contiguous.\n",
        "    # plus, the code values provided with linear4bit aren't exactly the same as the ones used by bnb\n",
        "    # taken from bitsandbytes get_4bit_type to ensure we use the same values\n",
        "    # https://github.com/bitsandbytes-foundation/bitsandbytes/blob/86b6c37a8ad448230cedb60753f63150b603a112/bitsandbytes/functional.py#L1075\n",
        "\n",
        "    return tl.where(bit3,\n",
        "        # 1xxx\n",
        "        tl.where(bit2,\n",
        "            # 11xx\n",
        "            tl.where(bit1,\n",
        "                # 111x\n",
        "                tl.where(bit0, 1.0, 0.7229568362236023),\n",
        "                # 110x\n",
        "                tl.where(bit0, 0.5626170039176941, 0.44070982933044434)\n",
        "            ),\n",
        "            # 10xx\n",
        "            tl.where(bit1,\n",
        "                # 101x\n",
        "                tl.where(bit0, 0.33791524171829224, 0.24611230194568634),\n",
        "                # 100x\n",
        "                tl.where(bit0, 0.16093020141124725, 0.07958029955625534)\n",
        "            )\n",
        "        ),\n",
        "        # 0xxx\n",
        "        tl.where(bit2,\n",
        "            # 01xx\n",
        "            tl.where(bit1,\n",
        "                # 011x\n",
        "                tl.where(bit0, 0.0, -0.09105003625154495),\n",
        "                # 010x\n",
        "                tl.where(bit0, -0.18477343022823334, -0.28444138169288635)\n",
        "            ),\n",
        "            # 00xx\n",
        "            tl.where(bit1,\n",
        "                # 001x\n",
        "                tl.where(bit0, -0.39491748809814453, -0.5250730514526367),\n",
        "                # 000x\n",
        "                tl.where(bit0, -0.6961928009986877, -1.0)\n",
        "            )\n",
        "        )\n",
        "    )\n",
        "\n",
        "@triton.autotune(\n",
        "    configs=[\n",
        "        triton.Config({'BLOCK_SIZE': 32}),\n",
        "        triton.Config({'BLOCK_SIZE': 64}),\n",
        "        triton.Config({'BLOCK_SIZE': 128}),\n",
        "        triton.Config({'BLOCK_SIZE': 256}),\n",
        "        # t4s dont have as much memory bandwidth\n",
        "        # triton.Config({'BLOCK_SIZE': 512}),\n",
        "        # triton.Config({'BLOCK_SIZE': 1024}),\n",
        "        # triton.Config({'BLOCK_SIZE': 2048}),\n",
        "        # triton.Config({'BLOCK_SIZE': 4096}),\n",
        "        # triton.Config({'BLOCK_SIZE': 8192}),\n",
        "    ],\n",
        "    key=['total_elements'],\n",
        ")\n",
        "@triton.jit()\n",
        "def _your_dequantize_nf4_kernel(\n",
        "    weight_ptr,  # [uint8]  Quantized weights, 1 byte => 2 NF4 elements\n",
        "    absmax_ptr,  # [int]  One int \"index\" per element\n",
        "    absmax2_ptr,  # [float]  One absmax2 per block\n",
        "    code_ptr,  # [float]  NF4 code lookup\n",
        "    code2_ptr,  # [float]  Absmax code lookup\n",
        "    offset_ptr,  # [float]  Offset to add after absmax is decoded\n",
        "    out_ptr,  # [float]  Final dequantized output\n",
        "    weight_blocksize: tl.constexpr,  # [int]   Number of elements in a weight block\n",
        "    absmax_blocksize: tl.constexpr, # [int]   Number of elements in a absmax block\n",
        "    total_elements: tl.constexpr,  # [int]   Number of actual float elements to reconstruct\n",
        "    BLOCK_SIZE: tl.constexpr,\n",
        "    # debug_absmax_ptr=None,\n",
        "    # debug_quant1_ptr=None,\n",
        "    # debug_quant2_ptr=None,\n",
        "):\n",
        "    # context; we adopt the pov of a quantized byte, which corresponds to 2 elems\n",
        "    pid = tl.program_id(0)\n",
        "    start = pid * BLOCK_SIZE\n",
        "    index = start + tl.arange(0, BLOCK_SIZE)\n",
        "\n",
        "    offset = tl.load(offset_ptr, eviction_policy=\"evict_last\")\n",
        "\n",
        "    # weight_block_index = index // (weight_blocksize // 2) # the block index of the byte\n",
        "    # now we end up with a vector like (0, 0, ... 0, 0, 1, 1, ...)\n",
        "    # we can shrink this by applying a stride of weight_blocksize // 2\n",
        "    weight_block_index = start // (weight_blocksize // 2) + tl.arange(0, BLOCK_SIZE // (weight_blocksize // 2))\n",
        "    absmax_block_index = weight_block_index // absmax_blocksize # the block index of the absmax\n",
        "\n",
        "    # mask calculations\n",
        "    byte_index_mask = index < (total_elements // 2)\n",
        "    weight_block_mask = weight_block_index < (total_elements // weight_blocksize)\n",
        "    abs_block_mask = absmax_block_index < (total_elements // weight_blocksize // absmax_blocksize)\n",
        "\n",
        "    # compute absmax for the block these weights belong to:\n",
        "    absmax1_code = tl.load(absmax_ptr + weight_block_index, mask=weight_block_mask, eviction_policy=\"evict_first\")\n",
        "    absmax1_code = absmax1_code.to(tl.int16) # this is necessary\n",
        "\n",
        "    # reading values from code is likely a very slow process due to lack of contiguity\n",
        "    absmax1_val = tl.load(code2_ptr + absmax1_code, mask=(absmax1_code < 256), eviction_policy=\"evict_first\")\n",
        "    absmax2_val = tl.load(absmax2_ptr + absmax_block_index, mask=abs_block_mask)\n",
        "\n",
        "    absmax = tl.fma(absmax1_val, absmax2_val, offset)\n",
        "\n",
        "    # lookup each weight bit\n",
        "    byte = tl.load(weight_ptr + index, mask=byte_index_mask, eviction_policy=\"evict_first\").to(tl.uint8)\n",
        "\n",
        "    # matter of covention which set of bits is the first and second\n",
        "    code_index2 = byte & 0x0F  # Lower 4 bits\n",
        "    code_index1 = (byte >> 4) & 0x0F  # Upper 4 bits\n",
        "\n",
        "    # we can interleave the codes to get back to using just one large tensor\n",
        "    # might need to assess if interleaving is the fastest op (or some cat/join + reshape is faster)\n",
        "    # weight_index = tl.interleave(index * 2, index * 2 + 1)\n",
        "    # weight_index_mask = weight_index < total_elements\n",
        "\n",
        "    # code = tl.interleave(code_index1, code_index2)\n",
        "    # weight = dequantize_nf4_code(code)[:, None, None].reshape(BLOCK_SIZE // weight_blocksize * 2, weight_blocksize) * absmax[:, None]\n",
        "    # # code = tl.join(code_index1, code_index2)\n",
        "    # weight = dequantize_nf4_code(code)[:, :, None].reshape(BLOCK_SIZE // (weight_blocksize // 2), (weight_blocksize // 2), 2) * absmax[:, None]\n",
        "\n",
        "    # weight_index = tl.ravel(tl.join(index * 2, index * 2 + 1))\n",
        "    # tl.store(out_ptr + weight_index, tl.ravel(weight), mask=weight_index_mask, cache_modifier=\".cs\")\n",
        "\n",
        "    # Dequantize both 4-bit values\n",
        "    weight1 = dequantize_nf4_code(code_index1)[:, None].reshape(BLOCK_SIZE // (weight_blocksize // 2), (weight_blocksize // 2)) * absmax[:, None]\n",
        "    weight2 = dequantize_nf4_code(code_index2)[:, None].reshape(BLOCK_SIZE // (weight_blocksize // 2), (weight_blocksize // 2)) * absmax[:, None]\n",
        "\n",
        "    tl.store(out_ptr + (index * 2), tl.ravel(weight1), mask=byte_index_mask, cache_modifier=\".cs\")\n",
        "    tl.store(out_ptr + (index * 2 + 1), tl.ravel(weight2), mask=byte_index_mask, cache_modifier=\".cs\")\n",
        "\n",
        "    tl.debug_barrier()\n",
        "\n",
        "\n",
        "\n",
        "def _your_dequantize_nf4(weight, quant_state):\n",
        "    absmax = quant_state.absmax\n",
        "    code = quant_state.code\n",
        "    shape = quant_state.shape\n",
        "    dtype = quant_state.dtype\n",
        "    blocksize = quant_state.blocksize\n",
        "    offset = quant_state.offset\n",
        "    state2 = quant_state.state2\n",
        "    absmax2 = state2.absmax\n",
        "    code2 = state2.code\n",
        "    blocksize2 = state2.blocksize\n",
        "\n",
        "    # we output to float32 first because t4 gpus are an older archi and don't natively support bf16\n",
        "    if dtype == torch.bfloat16:\n",
        "        out = torch.empty(shape, dtype=torch.float32, device=weight.device)\n",
        "    else:\n",
        "        out = torch.empty(shape, dtype=dtype, device=weight.device)\n",
        "    weight_grid = lambda meta: (triton.cdiv(out.numel() // 2, meta['BLOCK_SIZE']),)\n",
        "\n",
        "    _your_dequantize_nf4_kernel[weight_grid](\n",
        "        weight,\n",
        "        absmax,\n",
        "        absmax2,\n",
        "        code,\n",
        "        code2,\n",
        "        offset,\n",
        "        out,\n",
        "        weight_blocksize=blocksize,\n",
        "        absmax_blocksize=blocksize2,\n",
        "        total_elements=out.numel(),\n",
        "        # BLOCK_SIZE=TL_BLOCKSIZE,\n",
        "    )\n",
        "\n",
        "    # apparently, the fact that it could need a transpose is already handled\n",
        "    return out.to(dtype) if dtype == torch.bfloat16 else out\n",
        "\n",
        "def your_dequantize_nf4(weight):\n",
        "    return _your_dequantize_nf4(weight.weight.data, weight.weight.quant_state)\n",
        "\n",
        "\n",
        "test_dequantize(your_dequantize_nf4)\n"
      ]
    },
    {
      "cell_type": "code",
      "execution_count": 7,
      "metadata": {
        "colab": {
          "base_uri": "https://localhost:8080/",
          "height": 647
        },
        "id": "-iqpFRbQrZca",
        "outputId": "7abb7791-c91e-4a68-f104-5f85aedef129"
      },
      "outputs": [
        {
          "output_type": "display_data",
          "data": {
            "text/plain": [
              "<Figure size 640x480 with 1 Axes>"
            ],
            "image/png": "[encoded data removed]"
          },
          "metadata": {}
        },
        {
          "output_type": "stream",
          "name": "stdout",
          "text": [
            "dequantize_performance:\n",
            "       model_size  Your Implementation  Unsloth Implementation\n",
            "0      small_bf16             0.919345                0.341431\n",
            "1     medium_bf16             9.346760                6.842534\n",
            "2      large_bf16             9.737800                5.351878\n",
            "3   small_float16             0.490694                0.316728\n",
            "4  medium_float16             3.253166                5.842437\n",
            "5   large_float16             3.614493                6.698378\n",
            "6           case1             0.882529                0.575520\n",
            "7           case2             9.284632                7.177968\n",
            "8           case3             1.514096                1.433922\n"
          ]
        }
      ],
      "source": [
        "size_map = {\n",
        "        \"small_bf16\": (5, 777, 1024, 4096, torch.bfloat16, 3410),\n",
        "        \"medium_bf16\": (3, 2048, 4096, 14336, torch.bfloat16, 3400),\n",
        "        \"large_bf16\": (12, 1024, 4096, 16384, torch.bfloat16, 3390),\n",
        "        \"small_float16\": (5, 777, 1024, 4096, torch.float16, 3410),\n",
        "        \"medium_float16\": (3, 2048, 4096, 14336, torch.float16, 3400),\n",
        "        \"large_float16\": (12, 1024, 4096, 16384, torch.float16, 3390),\n",
        "        \"case1\": (5,  777, 1024,  4096, torch.bfloat16, 3409),\n",
        "        \"case2\": (3, 2048, 4096, 14336, torch.bfloat16, 3408),\n",
        "        \"case3\": (2, 3333, 2048,  8192, torch.float16, 3407),\n",
        "    }\n",
        "\n",
        "@triton.testing.perf_report(\n",
        "    triton.testing.Benchmark(\n",
        "        x_names=['model_size'],  # Use a single parameter for the x-axis\n",
        "        x_vals=list(size_map.keys()),\n",
        "        line_arg='provider',\n",
        "        line_vals=[\n",
        "            'your_dequantize',\n",
        "            'unsloth_dequantize',\n",
        "        ],\n",
        "        line_names=[\n",
        "            'Your Implementation',\n",
        "            'Unsloth Implementation',\n",
        "        ],\n",
        "        styles=[('blue', '-'), ('green', '-')],\n",
        "        ylabel='Runtime (ms)',\n",
        "        plot_name='dequantize_performance',\n",
        "        args={},  # Empty dict for additional args\n",
        "    )\n",
        ")\n",
        "def bench_dequantize(model_size, provider):\n",
        "    # Map model size to configuration\n",
        "    bsz, qlen, hd, m, dtype, seed = size_map[model_size]\n",
        "\n",
        "    set_seed(seed)\n",
        "    torch.set_default_dtype(dtype)\n",
        "    mlp = MLP(hd=hd, m=m, dtype=dtype).to(\"cuda\")\n",
        "    X = torch.randn((bsz, qlen, hd), device=\"cuda\")\n",
        "\n",
        "    # Select the dequantization function based on provider\n",
        "    dequantize_fx = your_dequantize_nf4 if provider == 'your_dequantize' else unsloth_dequantize\n",
        "\n",
        "    # Benchmark\n",
        "    ms = triton.testing.do_bench(\n",
        "        lambda: mlp_dequantize(X, mlp, dequantize_fx),\n",
        "        warmup=20,\n",
        "        rep=100\n",
        "    )\n",
        "\n",
        "    return ms\n",
        "\n",
        "\n",
        "bench_dequantize.run(print_data=True, show_plots=True)"
      ]
    },
    {
      "cell_type": "markdown",
      "source": [
        "Unfortunately, in the colab environment, our implementation is only faster than the reference for float16, with a larger difference when the weight tensors are larger."
      ],
      "metadata": {
        "id": "NoZnyFmx1uHu"
      }
    },
    {
      "cell_type": "code",
      "execution_count": 8,
      "metadata": {
        "colab": {
          "base_uri": "https://localhost:8080/"
        },
        "id": "hIeFUoOorZcb",
        "outputId": "acf60481-5d5c-4f6b-ae5e-103c3e8ca0d0"
      },
      "outputs": [
        {
          "output_type": "execute_result",
          "data": {
            "text/plain": [
              "0.5063950587824727"
            ]
          },
          "metadata": {},
          "execution_count": 8
        }
      ],
      "source": [
        "### CALCULATE SPEEDUP (hopefully 1.15x faster or more)\n",
        "test_dequantize(unsloth_dequantize) / test_dequantize(your_dequantize_nf4)"
      ]
    },
    {
      "cell_type": "code",
      "execution_count": 8,
      "metadata": {
        "id": "9cEuJIJ4rZcb"
      },
      "outputs": [],
      "source": []
    }
  ],
  "metadata": {
    "kernelspec": {
      "display_name": "Python 3",
      "name": "python3"
    },
    "language_info": {
      "codemirror_mode": {
        "name": "ipython",
        "version": 3
      },
      "file_extension": ".py",
      "mimetype": "text/x-python",
      "name": "python",
      "nbconvert_exporter": "python",
      "pygments_lexer": "ipython3",
      "version": "3.12.4"
    },
    "colab": {
      "provenance": [],
      "gpuType": "T4"
    },
    "accelerator": "GPU"
  },
  "nbformat": 4,
  "nbformat_minor": 0
}